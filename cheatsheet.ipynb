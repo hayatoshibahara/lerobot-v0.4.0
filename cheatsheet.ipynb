{
 "cells": [
  {
   "cell_type": "markdown",
   "id": "b4b664ea",
   "metadata": {},
   "source": [
    "# チートシート（LeRobot v0.4.0）"
   ]
  },
  {
   "cell_type": "markdown",
   "id": "c97d6401",
   "metadata": {
    "vscode": {
     "languageId": "plaintext"
    }
   },
   "source": [
    "- [Installation][3]\n",
    "- [SO-101][2]\n",
    "- [Imitation Learning on Real-World Robots][1]\n",
    "\n",
    "[1]: https://huggingface.co/docs/lerobot/en/il_robots\n",
    "[2]: https://huggingface.co/docs/lerobot/en/so101\n",
    "[3]: https://huggingface.co/docs/lerobot/en/installation"
   ]
  },
  {
   "cell_type": "markdown",
   "id": "d08d8e2c",
   "metadata": {},
   "source": [
    "### Conda環境の作成"
   ]
  },
  {
   "cell_type": "markdown",
   "id": "aad58975",
   "metadata": {},
   "source": [
    "- [macOS/Linux](https://docs.conda.io/projects/conda/en/latest/user-guide/install/macos.html#installing-in-silent-mode)\n",
    "- [Windows](https://docs.conda.io/projects/conda/en/latest/user-guide/install/windows.html#installing-on-windows)"
   ]
  },
  {
   "cell_type": "code",
   "execution_count": null,
   "id": "859971f2",
   "metadata": {},
   "outputs": [],
   "source": [
    "if False:\n",
    "    # macOSかLinux\n",
    "    !wget https://repo.anaconda.com/miniconda/Miniconda3-latest-MacOSX-x86_64.sh -O ~/miniconda.sh\n",
    "    !bash ~/miniconda.sh -b -p $HOME/miniconda\n",
    "    !source $HOME/miniconda/bin/activate\n",
    "    !conda init --all\n",
    "    !conda create -y -n lerobot-v0.4.0 python=3.10\n",
    "    !conda activate lerobot-v0.4.0\n",
    "    !conda install ffmpeg -c conda-forge\n",
    "    if not os.path.exists(\"lerobot\"):\n",
    "        !git clone https://github.com/huggingface/lerobot.git\n",
    "    %pip install -qe lerobot\n",
    "    %pip install -qe \"lerobot[feetech]\" # モーターのドライバー"
   ]
  },
  {
   "cell_type": "markdown",
   "id": "5f07bec3",
   "metadata": {},
   "source": [
    "### USBポートの特定"
   ]
  },
  {
   "cell_type": "code",
   "execution_count": null,
   "id": "fa0f5d49",
   "metadata": {},
   "outputs": [],
   "source": [
    "if False:\n",
    "    # Conda環境を設定する\n",
    "    !conda activate lerobot-v0.4.0\n",
    "\n",
    "    # 1. マイコンボードをUSBで接続する\n",
    "    # 2. find_portコマンドを実行\n",
    "    !lerobot-find-port\n",
    "\n",
    "    # 3. USBを外して、エンターキーを押す\n",
    "    # 4. 「/dev/tty.usbmodem5A7A0182121」のようなポートが出力されるので変数に保存する\n",
    "    !export LEADER_PORT=\"/dev/tty.usbmodem5A7A0182121\"\n",
    "    !export FOLLOWER_PORT=\"/dev/tty.usbmodem5A7A0182121\""
   ]
  },
  {
   "cell_type": "markdown",
   "id": "ac504141",
   "metadata": {},
   "source": [
    "### キャリブレーション"
   ]
  },
  {
   "cell_type": "code",
   "execution_count": null,
   "id": "a30e8a8b",
   "metadata": {},
   "outputs": [],
   "source": [
    "if False:\n",
    "    # IDを設定する\n",
    "    !export LEADER_ID=\"leader_arm_1\"\n",
    "    !export FOLLOWER_ID=\"follower_arm_1\"\n",
    "\n",
    "    # Followerのキャリブレーション\n",
    "    !lerobot-calibrate \\\n",
    "        --robot.type=so101_follower \\\n",
    "        --robot.port=$FOLLOWER_PORT \\\n",
    "        --robot.id=$FOLLOWER_ID\n",
    "\n",
    "    # Leaderのキャリブレーション\n",
    "    !lerobot-calibrate \\\n",
    "        --teleop.type=so101_leader \\\n",
    "        --teleop.port=$LEADER_PORT \\\n",
    "        --teleop.id=$LEADER_ID"
   ]
  },
  {
   "cell_type": "markdown",
   "id": "9b2e096f",
   "metadata": {},
   "source": [
    "フォロワーアームの中間位置:\n",
    "\n",
    "![](image/follower.png)"
   ]
  },
  {
   "cell_type": "markdown",
   "id": "8f47f81e",
   "metadata": {},
   "source": [
    "### テレオペレーション"
   ]
  },
  {
   "cell_type": "code",
   "execution_count": null,
   "id": "7a80d820",
   "metadata": {},
   "outputs": [],
   "source": [
    "if False:\n",
    "    !lerobot-teleoperate \\\n",
    "        --robot.type=so101_follower \\\n",
    "        --robot.port=$FOLLOWER_PORT \\\n",
    "        --robot.id=$FOLLOWER_ID \\\n",
    "        --teleop.type=so101_leader \\\n",
    "        --teleop.port=$LEADER_PORT \\\n",
    "        --teleop.id=$LEADER_ID"
   ]
  },
  {
   "cell_type": "markdown",
   "id": "5950a6b7",
   "metadata": {},
   "source": [
    "### カメラの検出"
   ]
  },
  {
   "cell_type": "code",
   "execution_count": null,
   "id": "0064748e",
   "metadata": {},
   "outputs": [],
   "source": [
    "if False:\n",
    "    !lerobot-find-cameras opencv\n",
    "    !export CAMERAS=\"{ image.top: {type: opencv, index_or_path: 0, width: 640, height: 480, fps: 30}, image.wrist.left: {type: opencv, index_or_path: 1, width: 640, height: 480, fps: 30}}\""
   ]
  },
  {
   "cell_type": "markdown",
   "id": "1cc7188e",
   "metadata": {},
   "source": [
    "### カメラ付きテレオペレーション"
   ]
  },
  {
   "cell_type": "code",
   "execution_count": null,
   "id": "b47981cb",
   "metadata": {},
   "outputs": [],
   "source": [
    "if False:\n",
    "    !lerobot-teleoperate \\\n",
    "        --robot.type=so101_follower \\\n",
    "        --robot.port=$FOLLOWER_PORT \\\n",
    "        --robot.id=$FOLLOWER_ID \\\n",
    "        --robot.cameras=$CAMERAS \\\n",
    "        --teleop.type=so101_leader \\\n",
    "        --teleop.port=$LEADER_PORT \\\n",
    "        --teleop.id=$LEADER_ID \\\n",
    "        --display_data=true"
   ]
  },
  {
   "cell_type": "markdown",
   "id": "c1e2cd0d",
   "metadata": {},
   "source": [
    "### データセットの記録"
   ]
  },
  {
   "cell_type": "markdown",
   "id": "e966ab7a",
   "metadata": {},
   "source": [
    "- 実行中のキーボードコントロール\n",
    "    - 右矢印: 現在のエピソードを早期終了し次へ進む\n",
    "    - 左矢印: 現在のエピソードをキャンセルし再記録する\n",
    "    - Escape: セッションを終了し、データセットをアップロードする\n",
    "- `--resume=true`で中断した記録を再開できる\n",
    "- 再開する場合、`--dataset.num_episodes`は追加で記録するエピソード数を設定する\n",
    "- 記録をやり直すにはデータセットディレクトリを手動で削除する"
   ]
  },
  {
   "cell_type": "code",
   "execution_count": null,
   "id": "2131c98c",
   "metadata": {},
   "outputs": [],
   "source": [
    "if False:\n",
    "    !export HF_USER=\"EngineerCafeJP\"\n",
    "    !export DATE=$(date +%Y-%m-%d-%H-%M-%S)\n",
    "    !export REPO_ID=\"${HF_USER}/record-test_${DATE}\"\n",
    "    !export NUM_EPISODES=50\n",
    "    !export SINGLE_TASK=\"Grab the green bottle cap and place it in the brown box.\"\n",
    "\n",
    "    !lerobot-record \\\n",
    "        --robot.type=so101_follower \\\n",
    "        --robot.port=$FOLLOWER_PORT \\\n",
    "        --robot.id=$FOLLOWER_ID \\\n",
    "        --robot.cameras=$CAMERAS \\\n",
    "        --teleop.type=so101_leader \\\n",
    "        --teleop.port=$LEADER_PORT \\\n",
    "        --teleop.id=$LEADER_ID \\\n",
    "        --display_data=true \\\n",
    "        --dataset.repo_id=$REPO_ID \\\n",
    "        --dataset.single_task=$SINGLE_TASK \\\n",
    "        --dataset.num_episodes=$NUM_EPISODES \\\n",
    "        --resume=false"
   ]
  },
  {
   "cell_type": "markdown",
   "id": "0ced89a1",
   "metadata": {},
   "source": [
    "### データセットの可視化"
   ]
  },
  {
   "cell_type": "markdown",
   "id": "681cf433",
   "metadata": {},
   "source": [
    "https://huggingface.co/spaces/lerobot/visualize_dataset"
   ]
  },
  {
   "cell_type": "markdown",
   "id": "3c2da574",
   "metadata": {},
   "source": [
    "![](image/preview.png)"
   ]
  },
  {
   "cell_type": "markdown",
   "id": "3f924701",
   "metadata": {},
   "source": [
    "### エピソードの再生"
   ]
  },
  {
   "cell_type": "code",
   "execution_count": null,
   "id": "ea330c82",
   "metadata": {},
   "outputs": [],
   "source": [
    "if False:\n",
    "    !lerobot-replay \\\n",
    "        --robot.type=so101_follower \\\n",
    "        --robot.port=$FOLLOWER_PORT \\\n",
    "        --robot.id=$FOLLOWER_ID \\\n",
    "        --dataset.repo_id=$REPO_ID \\\n",
    "        --dataset.episode=0"
   ]
  },
  {
   "cell_type": "markdown",
   "id": "283c3dd7",
   "metadata": {},
   "source": [
    "### 訓練の準備"
   ]
  },
  {
   "cell_type": "code",
   "execution_count": null,
   "id": "59faa8ef",
   "metadata": {},
   "outputs": [],
   "source": [
    "import os\n",
    "\n",
    "try:\n",
    "    from google.colab import userdata\n",
    "    HF_USER = userdata.get(\"HF_USER\")\n",
    "    HF_TOKEN = userdata.get(\"HF_TOKEN\")\n",
    "    WANDB_API_KEY = userdata.get(\"WANDB_API_KEY\")\n",
    "\n",
    "    !pip install -q condacolab\n",
    "    import condacolab\n",
    "    condacolab.install()\n",
    "except:\n",
    "    from dotenv import load_dotenv\n",
    "    load_dotenv()\n",
    "    HF_USER = os.getenv(\"HF_USER\")\n",
    "    HF_TOKEN = os.getenv(\"HF_TOKEN\")\n",
    "    WANDB_API_KEY = os.getenv(\"WANDB_API_KEY\")\n",
    "\n",
    "assert HF_USER is not None, \"HF_USER is not set\"\n",
    "assert HF_TOKEN is not None, \"HF_TOKEN is not set\"\n",
    "assert WANDB_API_KEY is not None, \"WANDB_API_KEY is not set\"\n",
    "\n",
    "if not os.path.exists(\"lerobot\"):\n",
    "    !git clone https://github.com/huggingface/lerobot.git\n",
    "    !conda install ffmpeg=7.1.1 -c conda-forge\n",
    "    !cd lerobot && pip install -e .\n",
    "\n",
    "import wandb\n",
    "wandb.login(key=WANDB_API_KEY)"
   ]
  },
  {
   "cell_type": "markdown",
   "id": "3aea7f16",
   "metadata": {},
   "source": [
    "### 訓練"
   ]
  },
  {
   "cell_type": "markdown",
   "id": "1ecf05da",
   "metadata": {},
   "source": [
    "- `policy-device=mps`でAppleシリコンでの訓練が可能"
   ]
  },
  {
   "cell_type": "code",
   "execution_count": null,
   "id": "3618c2d1",
   "metadata": {},
   "outputs": [],
   "source": [
    "# A100の場合はbatch_size=64\n",
    "\n",
    "!export OUTPUT_DIR=\"outputs/train/act_so101_test\"\n",
    "!export JOB_NAME=\"act_so101_test\"\n",
    "!eport POLICY_NAME=\"act_so101_test_${DATE}\"\n",
    "\n",
    "!cd lerobot && python src/lerobot/scripts/lerobot_train.py \\\n",
    "    --dataset.repo_id=$REPO_ID \\\n",
    "    --policy.type=act \\\n",
    "    --output_dir=$OUTPUT_DIR \\\n",
    "    --job_name=act-test_2025-10-25-15-32-04 \\\n",
    "    --policy.device=cuda \\\n",
    "    --policy.push_to_hub=true \\\n",
    "    --policy.repo_id=$HF_USER/act-test_2025-10-25-15-32-04 \\\n",
    "    --wandb.enable=true \\\n",
    "    --num_workers=4 \\\n",
    "    --batch_size=64 \\\n",
    "    --steps=100_000 \\\n",
    "    --save_freq=1000 \\\n",
    "    --wandb.enable=true"
   ]
  },
  {
   "cell_type": "markdown",
   "id": "d03351a8",
   "metadata": {},
   "source": [
    "![](image/loss.png)"
   ]
  },
  {
   "cell_type": "markdown",
   "id": "c34282a4",
   "metadata": {},
   "source": [
    "![](image/l1_loss.png)"
   ]
  },
  {
   "cell_type": "markdown",
   "id": "ad3b7565",
   "metadata": {},
   "source": [
    "### 訓練の再開"
   ]
  },
  {
   "cell_type": "code",
   "execution_count": null,
   "id": "93501f4c",
   "metadata": {},
   "outputs": [],
   "source": [
    "if False:\n",
    "    !lerobot-train \\\n",
    "        --config_path=${OUTPUT_DIR}/checkpoints/last/pretrained_model/train_config.json \\\n",
    "        --resume=true"
   ]
  },
  {
   "cell_type": "markdown",
   "id": "d24dffe9",
   "metadata": {},
   "source": [
    "### チェックポイントのアップロード"
   ]
  },
  {
   "cell_type": "code",
   "execution_count": null,
   "id": "85232d99",
   "metadata": {},
   "outputs": [],
   "source": [
    "if False:\n",
    "    !export CHECKPOINT_NAME=\"act_so101_test\"\n",
    "    !huggingface-cli upload ${HF_USER}/${CHECKPOINT_NAME} \\\n",
    "    ${OUTPUT_DIR}/checkpoints/last/pretrained_model"
   ]
  },
  {
   "cell_type": "code",
   "execution_count": null,
   "id": "69dd18bc",
   "metadata": {},
   "outputs": [],
   "source": [
    "if False:\n",
    "    !export CHECKPOINT_NAME=\"act-so101-test_${DATE}\"\n",
    "    !hf upload \\\n",
    "        --token $HF_TOKEN \\\n",
    "        ${HF_USER}/${CHECKPOINT_NAME} \\\n",
    "        ${OUTPUT_DIR}/checkpoints/last/pretrained_model \\\n",
    "        ."
   ]
  },
  {
   "cell_type": "code",
   "execution_count": null,
   "id": "b4e811bf",
   "metadata": {},
   "outputs": [],
   "source": [
    "if False:\n",
    "    !export CKPT=010000\n",
    "    !huggingface-cli upload ${HF_USER}/${CHECKPOINT_NAME}_${CKPT} \\\n",
    "        ${OUTPUT_DIR}/checkpoints/${CKPT}/pretrained_model"
   ]
  },
  {
   "cell_type": "markdown",
   "id": "18d1af4b",
   "metadata": {},
   "source": [
    "### Google Colab"
   ]
  },
  {
   "cell_type": "markdown",
   "id": "471ad876",
   "metadata": {},
   "source": [
    "https://huggingface.co/docs/lerobot/en/notebooks#training-act"
   ]
  },
  {
   "cell_type": "markdown",
   "id": "0d2bd4e1",
   "metadata": {},
   "source": [
    "### 推論の実行"
   ]
  },
  {
   "cell_type": "code",
   "execution_count": null,
   "id": "19bd8814",
   "metadata": {},
   "outputs": [],
   "source": [
    "if False:\n",
    "    !export EVAL_NAME=\"eval-so101-test_$(date +%Y-%m-%d-%H-%M-%S)\"\n",
    "    !lerobot-record  \\\n",
    "        --robot.type=so101_follower \\\n",
    "        --robot.port=$FOLLOWER_PORT \\\n",
    "        --robot.cameras=$CAMERAS \\\n",
    "        --robot.id=$FOLLOWER_ID \\\n",
    "        --display_data=false \\\n",
    "        --dataset.repo_id=${HF_USER}/${EVAL_NAME} \\\n",
    "        --dataset.single_task=${SINGLE_TASK} \\\n",
    "        --policy.path=${HF_USER}/${POLICY_NAME}"
   ]
  }
 ],
 "metadata": {
  "kernelspec": {
   "display_name": "lerobot-v0.4.0",
   "language": "python",
   "name": "python3"
  },
  "language_info": {
   "codemirror_mode": {
    "name": "ipython",
    "version": 3
   },
   "file_extension": ".py",
   "mimetype": "text/x-python",
   "name": "python",
   "nbconvert_exporter": "python",
   "pygments_lexer": "ipython3",
   "version": "3.10.19"
  }
 },
 "nbformat": 4,
 "nbformat_minor": 5
}
